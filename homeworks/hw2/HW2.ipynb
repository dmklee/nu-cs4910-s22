{
  "nbformat": 4,
  "nbformat_minor": 0,
  "metadata": {
    "colab": {
      "name": "HW2.ipynb",
      "provenance": [],
      "collapsed_sections": [],
      "authorship_tag": "ABX9TyOHX3a8/fDkjOAyZAZCyqn/"
    },
    "kernelspec": {
      "name": "python3",
      "display_name": "Python 3"
    },
    "language_info": {
      "name": "python"
    },
    "accelerator": "GPU"
  },
  "cells": [
    {
      "cell_type": "markdown",
      "source": [
        "## Get GPU \n",
        "Select the menu option \"Runtime\" -> \"Change runtime type\", select \"Hardware Accelerator\" -> \"GPU\" and click \"Save\"."
      ],
      "metadata": {
        "id": "p72kz8dYnoUM"
      }
    },
    {
      "cell_type": "markdown",
      "source": [
        "## Download Data Files\n",
        "If you get an error during training like \"OSError: Unable to open file (file signature not found)\" then delete \"train_dataset.hdf5\" from the files and run the cell below again"
      ],
      "metadata": {
        "id": "7aNy-1KLfch8"
      }
    },
    {
      "cell_type": "code",
      "source": [
        "# download commands taken from https://medium.com/@acpanjan/download-google-drive-files-using-wget-3c2c025a8b99\n",
        "!wget --load-cookies /tmp/cookies.txt \"https://docs.google.com/uc?export=download&confirm=$(wget --quiet --save-cookies /tmp/cookies.txt --keep-session-cookies --no-check-certificate 'https://docs.google.com/uc?export=download&id=1Xj-1gzZUYo9jRcswaLTiTwLykN_gkZ1T' -O- | sed -rn 's/.*confirm=([0-9A-Za-z_]+).*/\\1\\n/p')&id=1Xj-1gzZUYo9jRcswaLTiTwLykN_gkZ1T\" -O train_dataset.hdf5 && rm -rf /tmp/cookies.txt\n",
        "!wget --no-check-certificate 'https://docs.google.com/uc?export=download&id=1cdRW086W6RGtZmPgdpS1ouPR5TIpV8W7' -O test_dataset.hdf5"
      ],
      "metadata": {
        "id": "_9x31h28ZzpJ"
      },
      "execution_count": null,
      "outputs": []
    },
    {
      "cell_type": "markdown",
      "source": [
        "## Upload Python Files\n",
        "Run this cell, then select all *.py files in HW2 folder using the \"Browse\" button.  If you modify a file, then you will need to run this cell again."
      ],
      "metadata": {
        "id": "AcCpUtX8nU3n"
      }
    },
    {
      "cell_type": "code",
      "source": [
        "from google.colab import files\n",
        "uploaded = files.upload()"
      ],
      "metadata": {
        "id": "MR5H6aQ2njhV"
      },
      "execution_count": null,
      "outputs": []
    },
    {
      "cell_type": "markdown",
      "source": [
        "## Train the network\n",
        "It will take a few seconds to start and then should average about 3 seconds per epoch."
      ],
      "metadata": {
        "id": "3UMwOjhWjgij"
      }
    },
    {
      "cell_type": "code",
      "source": [
        "from train import train\n",
        "\n",
        "MODEL_NAME = 'model'\n",
        "TRAIN_DATA_PATH = 'train_dataset.hdf5'\n",
        "TEST_DATA_PATH = 'test_dataset.hdf5'\n",
        "N_EPOCHS = 15\n",
        "LEARNING_RATE = 1e-3\n",
        "BATCH_SIZE = 256\n",
        "USE_AUGMENTATION = False # change this to True for Part 5\n",
        "SEED = 0\n",
        "\n",
        "\n",
        "train(MODEL_NAME,\n",
        "      TRAIN_DATA_PATH,\n",
        "      TEST_DATA_PATH,\n",
        "      N_EPOCHS,\n",
        "      LEARNING_RATE,\n",
        "      BATCH_SIZE,\n",
        "      USE_AUGMENTATION,\n",
        "      SEED)"
      ],
      "metadata": {
        "id": "dl5cXE2Nhxz-"
      },
      "execution_count": null,
      "outputs": []
    },
    {
      "cell_type": "markdown",
      "source": [
        "## Download the Trained Model\n",
        "Once you are satisfied with the performance, you can download the model file by clicking on the \"Files\" icon on the side panel, then right click on the .pt file to download it.  You will need it available in the HW2 folder for Part 6."
      ],
      "metadata": {
        "id": "DNzlYGsCrSr1"
      }
    }
  ]
}