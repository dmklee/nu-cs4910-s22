{
  "nbformat": 4,
  "nbformat_minor": 0,
  "metadata": {
    "colab": {
      "name": "HW3.ipynb",
      "provenance": [],
      "collapsed_sections": [],
      "authorship_tag": "ABX9TyOEMc6Do4cZp7CyjUHO3Ju0",
      "include_colab_link": true
    },
    "kernelspec": {
      "name": "python3",
      "display_name": "Python 3"
    },
    "language_info": {
      "name": "python"
    },
    "accelerator": "GPU"
  },
  "cells": [
    {
      "cell_type": "markdown",
      "metadata": {
        "id": "view-in-github",
        "colab_type": "text"
      },
      "source": [
        "<a href=\"https://colab.research.google.com/github/dmklee/nu-cs4910-s22/blob/main/homeworks/hw3/HW3.ipynb\" target=\"_parent\"><img src=\"https://colab.research.google.com/assets/colab-badge.svg\" alt=\"Open In Colab\"/></a>"
      ]
    },
    {
      "cell_type": "markdown",
      "source": [
        "## Switch to GPU mode\n",
        "Select the menu option \"Runtime\" -> \"Change runtime type\", select \"Hardware Accelerator\" -> \"GPU\" and click \"Save\"."
      ],
      "metadata": {
        "id": "p72kz8dYnoUM"
      }
    },
    {
      "cell_type": "markdown",
      "source": [
        "# Download dependencies\n"
      ],
      "metadata": {
        "id": "raFDpsjG2vYp"
      }
    },
    {
      "cell_type": "code",
      "source": [
        "!pip3 install pybullet\n",
        "!pip3 install tqdm"
      ],
      "metadata": {
        "id": "JrQwSL2n2uTJ"
      },
      "execution_count": null,
      "outputs": []
    },
    {
      "cell_type": "markdown",
      "source": [
        "# Uploading and Importing files\n",
        "\n",
        "I recommend debugging the implementations locally, since the files you upload here do not update based on local changes.   The first cell downloads the `assets` folder, the second cell downloads transitions to pre-populate the replay buffer, and the third cell allows you to upload the `.py` files in the hw3 folder (by clicking upload files)."
      ],
      "metadata": {
        "id": "Nb1BbVXi3OSY"
      }
    },
    {
      "cell_type": "code",
      "source": [
        "%%capture\n",
        "!apt-get install subversion\n",
        "!svn export https://github.com/dmklee/nu-cs4910-s22/trunk/homeworks/hw3/assets"
      ],
      "metadata": {
        "id": "FUNwcR-B7a19"
      },
      "execution_count": 2,
      "outputs": []
    },
    {
      "cell_type": "code",
      "source": [
        "# download commands taken from https://medium.com/@acpanjan/download-google-drive-files-using-wget-3c2c025a8b99\n",
        "!wget --no-check-certificate 'https://docs.google.com/uc?export=download&id=1pRRRqHhUsGeh0FLbAmVek5qADWeazMDj' -O random_transitions.hdf5"
      ],
      "metadata": {
        "id": "_9x31h28ZzpJ"
      },
      "execution_count": null,
      "outputs": []
    },
    {
      "cell_type": "code",
      "source": [
        "from google.colab import files\n",
        "uploaded = files.upload()"
      ],
      "metadata": {
        "id": "MR5H6aQ2njhV"
      },
      "execution_count": null,
      "outputs": []
    },
    {
      "cell_type": "markdown",
      "source": [
        "# Train Agent\n",
        "You should get around 2.5 it/s. If it seems really slow, you might want to restart the runtime."
      ],
      "metadata": {
        "id": "R4-PqLV723tI"
      }
    },
    {
      "cell_type": "code",
      "source": [
        "%matplotlib notebook\n",
        "from grasping_env import TopDownGraspingEnv\n",
        "from agent import DQNAgent\n",
        "\n",
        "\n",
        "env = TopDownGraspingEnv()\n",
        "\n",
        "NUM_STEPS = 2000"
      ],
      "metadata": {
        "id": "JpzNet1nxjiX"
      },
      "execution_count": 1,
      "outputs": []
    },
    {
      "cell_type": "code",
      "source": [
        "agent = DQNAgent(env= env,\n",
        "                 gamma= 0.9,\n",
        "                 learning_rate= 1e-3,\n",
        "                 buffer_size= 4000,\n",
        "                 batch_size= 64,\n",
        "                 initial_epsilon= 0.5,\n",
        "                 final_epsilon=0.01,\n",
        "                 exploration_fraction=0.9,\n",
        "                 target_network_update_freq= 200,\n",
        "                 update_method= 'standard',\n",
        "                 seed= 0,\n",
        "                 device= 'cuda',\n",
        "                 )\n",
        "\n",
        "# the simulator can be slow so I have already collected some transitions for you\n",
        "# using random policy, I recommend using them unless you have time to kill\n",
        "agent.buffer.load_transitions('random_transitions.hdf5')\n",
        "\n",
        "agent.train(NUM_STEPS, plotting_freq=250)"
      ],
      "metadata": {
        "id": "jpRgm4ti29hT"
      },
      "execution_count": null,
      "outputs": []
    },
    {
      "cell_type": "code",
      "source": [
        "agent = DQNAgent(env= env,\n",
        "                 gamma= 0.98,\n",
        "                 learning_rate= 1e-3,\n",
        "                 buffer_size= 4000,\n",
        "                 batch_size= 64,\n",
        "                 initial_epsilon= 0.5,\n",
        "                 final_epsilon=0.01,\n",
        "                 exploration_fraction=0.9,\n",
        "                 target_network_update_freq= 200,\n",
        "                 update_method= 'double'\n",
        "                 seed= 0,\n",
        "                 device= 'cuda',\n",
        "                 )\n",
        "agent.buffer.load_transitions('random_transitions.hdf5')\n",
        "\n",
        "agent.train(NUM_STEPS, plotting_freq=250)"
      ],
      "metadata": {
        "id": "ZGlRAKoCxshp"
      },
      "execution_count": null,
      "outputs": []
    },
    {
      "cell_type": "markdown",
      "source": [
        "# Observations during hyperparameter tuning\n",
        "Make a note here what you tried and what you observed, if you want to store the plots without overwriting them, you can always create new cells."
      ],
      "metadata": {
        "id": "9VP76xpmyTC3"
      }
    },
    {
      "cell_type": "markdown",
      "source": [
        ""
      ],
      "metadata": {
        "id": "ugg8vlBnIr9U"
      }
    },
    {
      "cell_type": "markdown",
      "source": [
        "# Section 6: Add your thoughts here"
      ],
      "metadata": {
        "id": "AbZJ7vn7Ij-o"
      }
    },
    {
      "cell_type": "markdown",
      "source": [
        ""
      ],
      "metadata": {
        "id": "5N45btRxIoQm"
      }
    }
  ]
}